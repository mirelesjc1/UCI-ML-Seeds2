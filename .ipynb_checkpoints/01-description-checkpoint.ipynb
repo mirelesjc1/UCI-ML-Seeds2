{
 "cells": [
  {
   "cell_type": "markdown",
   "metadata": {},
   "source": [
    "Due Wednesday 4/25\n",
    "https://archive.ics.uci.edu/ml/datasets/seeds\n",
    "1. Domain: Botany used in statistics research, agriculture, seeds, wheat\n",
    "2. Problem statement\n",
    "\ta. Inputs: Seven features of wheat seeds\n",
    "\tb. Learning: We will create a classification model\n",
    "\tc. Output: Type/classes of wheat\n",
    "3. Metric: We will use BIC to assess performance\n",
    "4. Data summary: n:210, 3 classes - Kama, Rosa and Canadian (70 points each), df.describe(), P:7\n",
    "    Features (area A, perimeter P, compactness C = 4*pi*A/P^2, length of kernel, width of kernel,  asymmetry coefficient, length of kernel groove), plots (pair, distribution, and box), summary(R), .describe(Python)\n",
    "5. Solution proposal = Use Logistic Regression in Python\n",
    "6. Benchmark Model = Guess all 'Kama' for classification\n",
    "7. Plan = get and load the data (handle headers and separators), evaluate loaded data, visualize the data (plots), benchmark, feature selection/model development (backward selection to go through all features manually for best fit), train-test split, assess the model"
   ]
  },
  {
   "cell_type": "code",
   "execution_count": null,
   "metadata": {},
   "outputs": [],
   "source": []
  }
 ],
 "metadata": {
  "kernelspec": {
   "display_name": "Python 3",
   "language": "python",
   "name": "python3"
  },
  "language_info": {
   "codemirror_mode": {
    "name": "ipython",
    "version": 3
   },
   "file_extension": ".py",
   "mimetype": "text/x-python",
   "name": "python",
   "nbconvert_exporter": "python",
   "pygments_lexer": "ipython3",
   "version": "3.6.4"
  }
 },
 "nbformat": 4,
 "nbformat_minor": 2
}
